{
 "cells": [
  {
   "cell_type": "code",
   "execution_count": 2,
   "metadata": {},
   "outputs": [],
   "source": [
    "%load_ext autoreload\n",
    "%autoreload 2\n",
    "\n",
    "import tensorflow as tf\n",
    "import tensorflow_probability as tfp\n",
    "\n",
    "from src.ksd.ksd import KSD, MPKSD, SPKSD\n",
    "from src.ksd.kernel import IMQ\n",
    "import src.ksd.langevin as mcmc\n"
   ]
  },
  {
   "cell_type": "code",
   "execution_count": 3,
   "metadata": {},
   "outputs": [],
   "source": [
    "tf.random.set_seed(2022)"
   ]
  },
  {
   "cell_type": "markdown",
   "metadata": {},
   "source": [
    "# Set-ups: Bi-modal mixture of Gaussian\n",
    "We consider the first example in the experiments section of the paper. The target density is\n",
    "$$\n",
    "    p(x) \\propto \\pi_p \\exp\\left( - 0.5 * \\| x \\|_2^2 \\right) + (1 - \\pi_p) \\exp\\left( -0.5 * \\| x - e_1\\|_2^2 \\right),\n",
    "$$\n",
    "where $\\pi_p = 0.5$, and $e_1 = (1, 0, \\ldots, 0)^\\intercal \\in \\mathbb{R}^d$."
   ]
  },
  {
   "cell_type": "code",
   "execution_count": 4,
   "metadata": {},
   "outputs": [],
   "source": [
    "dim = 1\n",
    "pi_p = 0.5"
   ]
  },
  {
   "cell_type": "code",
   "execution_count": 5,
   "metadata": {},
   "outputs": [
    {
     "name": "stderr",
     "output_type": "stream",
     "text": [
      "2023-01-22 19:01:51.041725: E tensorflow/stream_executor/cuda/cuda_driver.cc:271] failed call to cuInit: CUDA_ERROR_NO_DEVICE: no CUDA-capable device is detected\n",
      "2023-01-22 19:01:51.041766: I tensorflow/stream_executor/cuda/cuda_diagnostics.cc:169] retrieving CUDA diagnostic information for host: nvidia4\n",
      "2023-01-22 19:01:51.041771: I tensorflow/stream_executor/cuda/cuda_diagnostics.cc:176] hostname: nvidia4\n",
      "2023-01-22 19:01:51.041857: I tensorflow/stream_executor/cuda/cuda_diagnostics.cc:200] libcuda reported version is: 460.27.4\n",
      "2023-01-22 19:01:51.041880: I tensorflow/stream_executor/cuda/cuda_diagnostics.cc:204] kernel reported version is: 460.27.4\n",
      "2023-01-22 19:01:51.041884: I tensorflow/stream_executor/cuda/cuda_diagnostics.cc:310] kernel version seems to match DSO: 460.27.4\n",
      "2023-01-22 19:01:51.042821: I tensorflow/core/platform/cpu_feature_guard.cc:142] This TensorFlow binary is optimized with oneAPI Deep Neural Network Library (oneDNN) to use the following CPU instructions in performance-critical operations:  AVX2 AVX512F FMA\n",
      "To enable them in other operations, rebuild TensorFlow with the appropriate compiler flags.\n"
     ]
    }
   ],
   "source": [
    "mean1 = tf.zeros(dim)\n",
    "mean2 = tf.eye(dim)[0, :] * 6.\n",
    "\n",
    "def log_prob(x, ratio=pi_p):\n",
    "    \"\"\"Log prob density of the target up to an additive constant\"\"\"\n",
    "    log_ratio1 = tf.math.log(ratio)\n",
    "    log_ratio2 = tf.math.log(1-ratio)\n",
    "    \n",
    "    exp1 = tf.reduce_sum((x - mean1)**2, axis=-1) # n\n",
    "    exp2 = tf.reduce_sum((x - mean2)**2, axis=-1) # n\n",
    "    exps = tf.stack([-0.5 * exp1 + log_ratio1, -0.5 * exp2 + log_ratio2]) # 2 x n\n",
    "    return tf.math.reduce_logsumexp(exps, axis=0) # n"
   ]
  },
  {
   "cell_type": "markdown",
   "metadata": {},
   "source": [
    "Samples are drawn from the *left component*, i.e. the same density but with $\\pi_p$ replaced by $\\pi_q = 1$."
   ]
  },
  {
   "cell_type": "code",
   "execution_count": 6,
   "metadata": {},
   "outputs": [],
   "source": [
    "def sample_from_Q(n, ratio):\n",
    "    \"\"\"Sample from the candidate distribution\"\"\"\n",
    "    mix1 = tf.random.normal((n, dim)) + mean1\n",
    "    mix2 = tf.random.normal((n, dim)) + mean2\n",
    "    unif = tf.random.uniform((n, 1))\n",
    "    x = tf.where(unif <= ratio, mix1, mix2)\n",
    "    return x"
   ]
  },
  {
   "cell_type": "code",
   "execution_count": 7,
   "metadata": {},
   "outputs": [],
   "source": [
    "# draw sample\n",
    "n = 1000\n",
    "samples = sample_from_Q(n, ratio=1.)"
   ]
  },
  {
   "cell_type": "markdown",
   "metadata": {},
   "source": [
    "# KSD test\n",
    "The goal is to test $H_0: Q = P$ against $H_1: Q \\neq P$.\n",
    "\n",
    "To perform KSD test, we need to instantiate\n",
    "1. a positive definite kernel: we use IMQ kernels with the median heuristic (see paper for details)\n",
    "2. a KSD object, which takes in a p.d. kernel and the log prob of the target"
   ]
  },
  {
   "cell_type": "code",
   "execution_count": 8,
   "metadata": {},
   "outputs": [],
   "source": [
    "kernel = IMQ(med_heuristic=True)\n",
    "ksd = KSD(kernel=kernel, log_prob=log_prob)"
   ]
  },
  {
   "cell_type": "code",
   "execution_count": 9,
   "metadata": {},
   "outputs": [
    {
     "name": "stderr",
     "output_type": "stream",
     "text": [
      "2023-01-22 19:01:51.498062: I tensorflow/compiler/mlir/mlir_graph_optimization_pass.cc:185] None of the MLIR Optimization Passes are enabled (registered 2)\n"
     ]
    },
    {
     "name": "stdout",
     "output_type": "stream",
     "text": [
      "KSD test: \n",
      "test statistic: -0.00169, p-value: 0.987\n"
     ]
    }
   ],
   "source": [
    "# compute test statistic and p-value using 1000 bootstrap samples \n",
    "ksd_hat, ksd_pval = ksd.test(x=samples, num_boot=1000)\n",
    "\n",
    "print(\"KSD test: \\ntest statistic: {:.3g}, p-value: {:.3g}\".format(ksd_hat, ksd_pval))"
   ]
  },
  {
   "cell_type": "markdown",
   "metadata": {},
   "source": [
    "The large $p$-value suggests no evidence of rejection, even though the sample has completely missed the other mode. \n",
    "\n",
    "This is because the score functions of the target distribution $P$ and the candidate distribution $Q$ are very similar on regions where we have sample.\n",
    "\n",
    "(Even though the population KSD is always non-negative, the test statistic can be negative because a U-statistic does not ensure positivity.)"
   ]
  },
  {
   "cell_type": "markdown",
   "metadata": {},
   "source": [
    "# spKSD test and ospKSD test\n",
    "To perform the spKSD test or ospKSD test, we need to provide a few more things (see paper for details):\n",
    "1. A collection of candidate perturbation kernels $\\mathcal{S} = \\{\\mathcal{K}_1, \\ldots, \\mathcal{K}_s \\}$: in this case each $\\mathcal{K}_s$ is a MH transition kernel leaving $p$ invariant.\n",
    "    - For spKSD, the entire $\\mathcal{S}$ will be used to compute the test statistic.\n",
    "    - For ospKSD, one optimal kernel will be selected from $\\mathcal{S}$ to compute the test statistic. \n",
    "2. Number of steps to apply the perturbation kernel.\n",
    "3. A list of candidate jump scales for the transition kernel,\n",
    "4. Starting points for the optimiser\n",
    "\n",
    "For ospKSD, we also need\n",
    "5. A training set for finding the optimal transition kernel from $\\mathcal{S}$, and a test set for computing the p-value."
   ]
  },
  {
   "cell_type": "markdown",
   "metadata": {},
   "source": [
    "## 1. spKSD"
   ]
  },
  {
   "cell_type": "code",
   "execution_count": 12,
   "metadata": {},
   "outputs": [],
   "source": [
    "# MH transition kernel\n",
    "mh_kernel = mcmc.RandomWalkMH\n",
    "\n",
    "# number of steps to apply transition kernel\n",
    "T = 10\n",
    "\n",
    "# candidate jump scales\n",
    "jump_ls = tf.linspace(0.5, 1.5, 21)\n",
    "\n",
    "# starting points to initialise optimiser for finding\n",
    "# modes and Hessians\n",
    "init_points = tf.random.uniform((n, dim), minval=-10, maxval=10) # ntrain x dim"
   ]
  },
  {
   "cell_type": "code",
   "execution_count": 13,
   "metadata": {},
   "outputs": [],
   "source": [
    "# instantiate sPKSD class\n",
    "spksd = SPKSD(kernel=kernel, pert_kernel=mh_kernel, log_prob=log_prob)"
   ]
  },
  {
   "cell_type": "code",
   "execution_count": 14,
   "metadata": {},
   "outputs": [],
   "source": [
    "# find modes and Hessians\n",
    "spksd.find_modes(init_points, threshold=1., max_iteration=500)"
   ]
  },
  {
   "cell_type": "code",
   "execution_count": 15,
   "metadata": {},
   "outputs": [
    {
     "name": "stdout",
     "output_type": "stream",
     "text": [
      "spKSD test: \n",
      "test statistic: 1.1, p-value: 0.000999\n"
     ]
    }
   ],
   "source": [
    "# compute test statistic and p-value using 1000 bootstrap samples \n",
    "spksd_hat, spksd_pval = spksd.test(\n",
    "    x=samples, \n",
    "    T=T, \n",
    "    jump_ls=jump_ls, \n",
    "    num_boot=1000, \n",
    "  )\n",
    "\n",
    "print(\"spKSD test: \\ntest statistic: {:.3g}, p-value: {:.3g}\".format(spksd_hat, spksd_pval))"
   ]
  },
  {
   "cell_type": "markdown",
   "metadata": {},
   "source": [
    "## 2. ospKSD \n",
    "\n",
    "ospKSD follows a similar logic. \n",
    "\n",
    "The initial points for the optimiser are randomly generated. However, we could also use the **training set** (or both) for potentially faster convergence. This would **not** affect the validity of the test result as the $p$-value will be computed from a held-out set. "
   ]
  },
  {
   "cell_type": "code",
   "execution_count": 16,
   "metadata": {},
   "outputs": [],
   "source": [
    "# train/test split\n",
    "ntrain = n//2\n",
    "sample_train, sample_test = samples[:ntrain, ], samples[ntrain:, ]\n",
    "\n",
    "# starting points to initialise optimiser for finding\n",
    "# modes and Hessians\n",
    "init_points = tf.random.uniform((ntrain, dim), minval=-10, maxval=10)\n",
    "\n",
    "###########################################################################\n",
    "# alternatively, use both the training set and randomly generated points\n",
    "###########################################################################\n",
    "# init_points = tf.concat([\n",
    "#     sample_train[:(ntrain//2)], \n",
    "#     tf.random.uniform((ntrain//2, dim), minval=-10, maxval=10) \n",
    "# ], axis=0)"
   ]
  },
  {
   "cell_type": "code",
   "execution_count": 17,
   "metadata": {},
   "outputs": [],
   "source": [
    "# instantiate PKSD class\n",
    "ospksd = MPKSD(kernel=kernel, pert_kernel=mh_kernel, log_prob=log_prob)"
   ]
  },
  {
   "cell_type": "code",
   "execution_count": 18,
   "metadata": {},
   "outputs": [],
   "source": [
    "# find modes and Hessians\n",
    "ospksd.find_modes(init_points, threshold=1., max_iteration=500)"
   ]
  },
  {
   "cell_type": "code",
   "execution_count": 19,
   "metadata": {},
   "outputs": [
    {
     "name": "stdout",
     "output_type": "stream",
     "text": [
      "ospKSD test: \n",
      "test statistic: 0.164, p-value: 0.000999\n"
     ]
    }
   ],
   "source": [
    "# compute test statistic and p-value using 1000 bootstrap samples \n",
    "ospksd_hat, ospksd_pval = ospksd.test(\n",
    "    xtrain=sample_train, \n",
    "    xtest=sample_test, \n",
    "    T=T, \n",
    "    jump_ls=jump_ls, \n",
    "    num_boot=1000, \n",
    "  )\n",
    "\n",
    "print(\"ospKSD test: \\ntest statistic: {:.3g}, p-value: {:.3g}\".format(ospksd_hat, ospksd_pval))"
   ]
  },
  {
   "cell_type": "markdown",
   "metadata": {},
   "source": [
    "Unlike KSD, the small $p$-value of the ospKSD test suggests a clear rejection at a level $\\alpha = 0.05$, demonstrating the capability of the chosen perturbation in detecting differences in mixing proportions.\n",
    "\n",
    "A similar observation could be drawn if the sample was drawn from *both* components but with a different mixing proportion, i.e., setting $\\pi_q \\in (0, 1)$ with $\\pi_q \\neq \\pi_p$."
   ]
  },
  {
   "cell_type": "markdown",
   "metadata": {},
   "source": [
    "# Samples before and after perturbation\n",
    "We visualise the samples before and after the optimal perturbation selected in ospKSD."
   ]
  },
  {
   "cell_type": "code",
   "execution_count": 24,
   "metadata": {},
   "outputs": [],
   "source": [
    "import matplotlib as mpl\n",
    "import matplotlib.pyplot as plt\n",
    "import seaborn as sns\n",
    "import pandas as pd\n",
    "mpl.rcParams[\"mathtext.fontset\"] = \"cm\""
   ]
  },
  {
   "cell_type": "code",
   "execution_count": 21,
   "metadata": {},
   "outputs": [],
   "source": [
    "# samples before perturbation\n",
    "# use more samples for clearer visualisation\n",
    "samples_before_plot = sample_from_Q(1000000, ratio=1.)\n",
    "\n",
    "# store samples before and after perturbation\n",
    "samples_df = pd.DataFrame({\n",
    "    \"x\": tf.concat([samples_before_plot[:, 0], ospksd.x[-1, :, 0]], axis=0),\n",
    "    \"type\": [\"Before\"]*samples_before_plot.shape[0] + [\"After\"]*(n-ntrain)\n",
    "})\n",
    "\n",
    "# ground-truth p density\n",
    "xx = tf.reshape(tf.linspace(-5., 15., 1000), (-1, 1))\n",
    "den_p = tf.exp(log_prob(xx, ratio=pi_p)) / tf.math.sqrt(2 * tf.experimental.numpy.pi)\n",
    "p_df = pd.DataFrame({\"x\": xx[:, 0].numpy(), \"prob\": den_p.numpy()})"
   ]
  },
  {
   "cell_type": "code",
   "execution_count": 26,
   "metadata": {},
   "outputs": [
    {
     "data": {
      "image/png": "[encoded data removed]",
      "text/plain": [
       "<Figure size 504x216 with 1 Axes>"
      ]
     },
     "metadata": {
      "needs_background": "light"
     },
     "output_type": "display_data"
    }
   ],
   "source": [
    "fig = plt.figure(figsize=(7, 3))\n",
    "sns.kdeplot(\n",
    "    data=samples_df.loc[samples_df.type == \"Before\"], \n",
    "    x=\"x\", \n",
    "    color=\"C1\",\n",
    "    label=\"Before\",\n",
    ")\n",
    "sns.kdeplot(\n",
    "    data=samples_df.loc[samples_df.type == \"After\"], \n",
    "    x=\"x\", \n",
    "    color=\"C0\",\n",
    "    label=\"After\",\n",
    ")\n",
    "sns.lineplot(\n",
    "    data=p_df,\n",
    "    x=\"x\",\n",
    "    y=\"prob\",\n",
    "    color=\"grey\",\n",
    "    label=\"Target\",\n",
    ")\n",
    "plt.fill_between(p_df.x, p_df.prob, color=\"silver\")\n",
    "\n",
    "plt.xlabel(\"$x$\", fontsize=30)\n",
    "plt.ylabel(\"Density\", fontsize=25)\n",
    "plt.xticks(fontsize=18)\n",
    "plt.yticks(fontsize=18)\n",
    "plt.legend(fontsize=18)\n",
    "plt.tight_layout()\n",
    "# fig.savefig(\"figs/paper/bimodal_density_plot.pdf\")"
   ]
  }
 ],
 "metadata": {
  "kernelspec": {
   "display_name": "pksd",
   "language": "python",
   "name": "pksd"
  },
  "language_info": {
   "codemirror_mode": {
    "name": "ipython",
    "version": 3
   },
   "file_extension": ".py",
   "mimetype": "text/x-python",
   "name": "python",
   "nbconvert_exporter": "python",
   "pygments_lexer": "ipython3",
   "version": "3.8.10"
  }
 },
 "nbformat": 4,
 "nbformat_minor": 5
}
