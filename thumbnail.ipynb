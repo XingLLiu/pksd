{
 "cells": [
  {
   "cell_type": "code",
   "execution_count": 1,
   "metadata": {},
   "outputs": [],
   "source": [
    "%load_ext autoreload\n",
    "%autoreload 2\n",
    "\n",
    "import src.ksd.models as models\n",
    "from src.ksd.find_modes import find_modes, pairwise_directions, run_bfgs\n",
    "from src.ksd.langevin import RandomWalkMH, RandomWalkBarker\n",
    "import src.ksd.langevin as mcmc\n",
    "from src.ksd.ksd import KSD\n",
    "from src.ksd.kernel import IMQ\n",
    "from src.ksd.bootstrap import Bootstrap\n",
    "from src.ksd.find_modes import find_modes, pairwise_directions\n",
    "from tqdm.notebook import tqdm, trange\n",
    "\n",
    "import numpy as np\n",
    "import pandas as pd\n",
    "import tensorflow as tf\n",
    "import tensorflow_probability as tfp\n",
    "tfd = tfp.distributions\n",
    "import matplotlib.pyplot as plt\n",
    "import seaborn as sns\n",
    "import matplotlib as mpl\n",
    "mpl.rcParams[\"mathtext.fontset\"] = \"cm\"\n",
    "\n",
    "import src.kgof.density as density\n",
    "import src.kgof.data as data\n",
    "\n",
    "MCMCKernel = RandomWalkMH # RandomWalkBarker"
   ]
  },
  {
   "cell_type": "code",
   "execution_count": 2,
   "metadata": {},
   "outputs": [
    {
     "name": "stderr",
     "output_type": "stream",
     "text": [
      "2023-01-23 16:34:36.631765: E tensorflow/stream_executor/cuda/cuda_driver.cc:271] failed call to cuInit: CUDA_ERROR_NO_DEVICE: no CUDA-capable device is detected\n",
      "2023-01-23 16:34:36.631801: I tensorflow/stream_executor/cuda/cuda_diagnostics.cc:169] retrieving CUDA diagnostic information for host: nvidia4\n",
      "2023-01-23 16:34:36.631808: I tensorflow/stream_executor/cuda/cuda_diagnostics.cc:176] hostname: nvidia4\n",
      "2023-01-23 16:34:36.631889: I tensorflow/stream_executor/cuda/cuda_diagnostics.cc:200] libcuda reported version is: 460.27.4\n",
      "2023-01-23 16:34:36.631910: I tensorflow/stream_executor/cuda/cuda_diagnostics.cc:204] kernel reported version is: 460.27.4\n",
      "2023-01-23 16:34:36.631915: I tensorflow/stream_executor/cuda/cuda_diagnostics.cc:310] kernel version seems to match DSO: 460.27.4\n",
      "2023-01-23 16:34:36.632576: I tensorflow/core/platform/cpu_feature_guard.cc:142] This TensorFlow binary is optimized with oneAPI Deep Neural Network Library (oneDNN) to use the following CPU instructions in performance-critical operations:  AVX2 AVX512F FMA\n",
      "To enable them in other operations, rebuild TensorFlow with the appropriate compiler flags.\n"
     ]
    }
   ],
   "source": [
    "n = 1000\n",
    "dim = 1\n",
    "\n",
    "mean1 = tf.constant([[0.]])\n",
    "mean2 = tf.constant([[8.]])\n",
    "noise_mean = tf.constant([[6.]])"
   ]
  },
  {
   "attachments": {},
   "cell_type": "markdown",
   "id": "5731c3f4",
   "metadata": {},
   "source": [
    "# Gaussian Mixture"
   ]
  },
  {
   "cell_type": "code",
   "execution_count": 4,
   "metadata": {},
   "outputs": [],
   "source": [
    "tf.random.set_seed(1)"
   ]
  },
  {
   "cell_type": "code",
   "execution_count": 5,
   "metadata": {
    "scrolled": false
   },
   "outputs": [],
   "source": [
    "## mixure of gaussians\n",
    "k = 1\n",
    "delta = 8.\n",
    "ratio_sample = 1.\n",
    "ratio_target = 0.5\n",
    "\n",
    "target, log_prob_fn = models.create_mixture_gaussian_kdim(\n",
    "    dim=dim, k=k, delta=delta, return_logprob=True, ratio=ratio_target)\n",
    "proposal_off, log_prob_off_fn = models.create_mixture_gaussian_kdim(\n",
    "    dim=dim, k=k, delta=delta, return_logprob=True, ratio=ratio_sample)"
   ]
  },
  {
   "cell_type": "code",
   "execution_count": 6,
   "metadata": {},
   "outputs": [],
   "source": [
    "n = 1000\n",
    "samples_on = target.sample(n)\n",
    "samples_on_df = pd.DataFrame({f\"x{i}\": samples_on[:, i] for i in range(dim)})\n",
    "samples_on_df[\"type\"] = \"on\"\n",
    "\n",
    "samples_off = proposal_off.sample(n)\n",
    "samples_off_df = pd.DataFrame({f\"x{i}\": samples_off[:, i] for i in range(dim)})\n",
    "samples_off_df[\"type\"] = \"off\"\n",
    "\n",
    "samples_df = pd.concat([samples_on_df, samples_off_df], ignore_index=True)"
   ]
  },
  {
   "cell_type": "code",
   "execution_count": 8,
   "metadata": {},
   "outputs": [],
   "source": [
    "ntrain = n // 2\n",
    "threshold = 1.\n",
    "\n",
    "samples_init = samples_off\n",
    "# samples_init = samples_on\n",
    "\n",
    "sample_off_train, sample_off_test = samples_init[:ntrain, ], samples_init[ntrain:, ]\n",
    "\n",
    "# start_pts = sample_off_train\n",
    "start_pts = tf.concat([\n",
    "    sample_off_train[:(ntrain//2)], \n",
    "    tf.random.uniform(shape=(ntrain//2, dim), minval=-10., maxval=10.)], axis=0)\n",
    "\n",
    "mode_list, inv_hess_list = find_modes(start_pts, log_prob_fn, grad_log=None, threshold=threshold, max_iterations=200)"
   ]
  },
  {
   "cell_type": "code",
   "execution_count": 9,
   "metadata": {
    "scrolled": true
   },
   "outputs": [
    {
     "data": {
      "text/plain": [
       "([<tf.Tensor: shape=(1,), dtype=float32, numpy=array([0.], dtype=float32)>,\n",
       "  <tf.Tensor: shape=(1,), dtype=float32, numpy=array([8.], dtype=float32)>],\n",
       " [<tf.Tensor: shape=(1, 1), dtype=float32, numpy=array([[1.]], dtype=float32)>,\n",
       "  <tf.Tensor: shape=(1, 1), dtype=float32, numpy=array([[1.]], dtype=float32)>])"
      ]
     },
     "execution_count": 9,
     "metadata": {},
     "output_type": "execute_result"
    }
   ],
   "source": [
    "mode_list, inv_hess_list"
   ]
  },
  {
   "cell_type": "code",
   "execution_count": null,
   "metadata": {},
   "outputs": [],
   "source": [
    " "
   ]
  },
  {
   "cell_type": "code",
   "execution_count": 10,
   "metadata": {},
   "outputs": [],
   "source": [
    "proposal_dict = mcmc.prepare_proposal_input_all(mode_list=mode_list, inv_hess_list=inv_hess_list)"
   ]
  },
  {
   "cell_type": "code",
   "execution_count": 11,
   "metadata": {},
   "outputs": [],
   "source": [
    "_, ind_pair_list = pairwise_directions(mode_list, return_index=True)"
   ]
  },
  {
   "cell_type": "code",
   "execution_count": 12,
   "metadata": {},
   "outputs": [],
   "source": [
    "std = [.9, 1.286, 1.29, 1.1520001]"
   ]
  },
  {
   "cell_type": "code",
   "execution_count": 13,
   "metadata": {
    "scrolled": true
   },
   "outputs": [],
   "source": [
    "T = 10\n",
    "\n",
    "mh = MCMCKernel(log_prob=log_prob_fn)\n",
    "mh.run(steps=T, std=std, x_init=sample_off_train, ind_pair_list=ind_pair_list, **proposal_dict)"
   ]
  },
  {
   "cell_type": "code",
   "execution_count": 14,
   "metadata": {},
   "outputs": [
    {
     "data": {
      "image/png": "[encoded data removed]",
      "text/plain": [
       "<Figure size 432x288 with 1 Axes>"
      ]
     },
     "metadata": {
      "needs_background": "light"
     },
     "output_type": "display_data"
    }
   ],
   "source": [
    "if len(mh.if_accept.shape) == 3:\n",
    "    xx = (np.sum(mh.if_accept.numpy()[-1], axis=0) > 0.).astype(np.float32)\n",
    "else:\n",
    "    xx = (np.sum(mh.if_accept.numpy(), axis=0) > 0.).astype(np.float32)\n",
    "_ = plt.hist(xx)"
   ]
  },
  {
   "cell_type": "code",
   "execution_count": 18,
   "metadata": {},
   "outputs": [],
   "source": [
    "if len(mh.x.shape) == 4:\n",
    "    x_all = mh.x[-1]\n",
    "else:\n",
    "    x_all = mh.x\n",
    "    \n",
    "x_0 = x_all[0].numpy()\n",
    "x_t = x_all[-1].numpy()\n",
    "\n",
    "x0_df = pd.DataFrame({f\"x{i}\": x_0[:, i] for i in range(dim)})\n",
    "x0_df[\"type\"] = \"Before\"\n",
    "\n",
    "xt_df = pd.DataFrame({f\"x{i}\": x_t[:, i] for i in range(dim)})\n",
    "xt_df[\"type\"] = \"After\"\n",
    "\n",
    "sample_on_df = pd.DataFrame({f\"x{i}\": samples_on.numpy()[:x_0.shape[0], i] for i in range(dim)})\n",
    "sample_on_df[\"type\"] = \"Target\"\n",
    "\n",
    "x0_df = pd.concat([x0_df, sample_on_df], ignore_index=True)\n",
    "xt_df = pd.concat([xt_df, sample_on_df], ignore_index=True)\n"
   ]
  },
  {
   "cell_type": "code",
   "execution_count": 115,
   "metadata": {},
   "outputs": [
    {
     "data": {
      "image/png": "[encoded data removed]",
      "text/plain": [
       "<Figure size 288x216 with 1 Axes>"
      ]
     },
     "metadata": {
      "needs_background": "light"
     },
     "output_type": "display_data"
    }
   ],
   "source": [
    "# only works for dim=1\n",
    "xx = tf.reshape(tf.linspace(-5., 15., 1000), (-1, 1))\n",
    "\n",
    "yy_sample = tf.exp(log_prob_off_fn(xx)) / tf.math.sqrt(2 * np.pi)\n",
    "sample_df = pd.DataFrame({\"x\": xx[:, 0].numpy(), \"prob\": yy_sample.numpy(), \"type\": \"Before\"})\n",
    "\n",
    "yy_sample_on = tf.exp(log_prob_fn(xx)) / tf.math.sqrt(2 * np.pi)\n",
    "sample_on_df = pd.DataFrame({\"x\": xx[:, 0].numpy(), \"prob\": yy_sample_on.numpy(), \"type\": \"Before\"})\n",
    "\n",
    "res_df = pd.concat([x0_df, xt_df, sample_on_df], ignore_index=True)\n",
    "\n",
    "fig = plt.figure(figsize=(4, 3)) # (7, 3)\n",
    "sns.lineplot(data=sample_df, x=\"x\", y=\"prob\",\n",
    "            color=\"tab:orange\",\n",
    "            label=\"Before\",\n",
    "            )\n",
    "sns.kdeplot(data=res_df.loc[res_df.type.isin([\"After\"])], x=\"x0\", \n",
    "            color=\"tab:blue\",\n",
    "            label=\"After\"\n",
    "            )\n",
    "sns.lineplot(data=sample_on_df, x=\"x\", y=\"prob\",\n",
    "             color=\"grey\",\n",
    "             label=\"Target\",\n",
    "            )\n",
    "plt.fill_between(sample_on_df.x, sample_on_df.prob, color=\"silver\")\n",
    "\n",
    "plt.xlabel(\"$x$\", fontsize=30)\n",
    "plt.ylabel(\"Density\", fontsize=25)\n",
    "plt.xticks(fontsize=18)\n",
    "plt.yticks(fontsize=18)\n",
    "# plt.legend(fontsize=18)\n",
    "plt.ylim(top=0.5)\n",
    "plt.legend(\n",
    "    fontsize=14, loc=\"upper center\", bbox_to_anchor=(0.73, 1.03), #columnspacing=0.8, handletextpad=0.8,\n",
    ")\n",
    "plt.tight_layout()\n",
    "fig.savefig(\"figs/bimodal_density_plot.pdf\")"
   ]
  }
 ],
 "metadata": {
  "kernelspec": {
   "display_name": "pksd",
   "language": "python",
   "name": "pksd"
  },
  "language_info": {
   "codemirror_mode": {
    "name": "ipython",
    "version": 3
   },
   "file_extension": ".py",
   "mimetype": "text/x-python",
   "name": "python",
   "nbconvert_exporter": "python",
   "pygments_lexer": "ipython3",
   "version": "3.8.10"
  }
 },
 "nbformat": 4,
 "nbformat_minor": 5
}
